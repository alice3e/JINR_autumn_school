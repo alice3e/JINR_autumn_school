{
 "cells": [
  {
   "cell_type": "markdown",
   "metadata": {},
   "source": []
  },
  {
   "cell_type": "code",
   "execution_count": 111,
   "metadata": {},
   "outputs": [],
   "source": [
    "import numpy as np\n",
    "import pandas as pd\n",
    "import csv\n",
    "from pathlib import Path\n",
    "import json\n",
    "main_dir = Path(r'data/csv_data')"
   ]
  },
  {
   "cell_type": "code",
   "execution_count": 112,
   "metadata": {},
   "outputs": [
    {
     "name": "stdout",
     "output_type": "stream",
     "text": [
      "data/csv_data/part1.csv\n",
      "data/csv_data/part2.csv\n"
     ]
    }
   ],
   "source": [
    "# пример работы pathlib\n",
    "for file_name in main_dir.iterdir():\n",
    "    print(file_name)"
   ]
  },
  {
   "cell_type": "code",
   "execution_count": 113,
   "metadata": {},
   "outputs": [],
   "source": [
    "# process csv data\n",
    "def process_csv_data(file_path: str) -> list[dict]:\n",
    "    \"\"\"\n",
    "    Read and process a CSV file containing user data, returning a list of dictionaries.\n",
    "\n",
    "    This function reads a CSV file with columns for full name, gender, age, skills,\n",
    "    company, salary, location (latitude and longitude), and registered date.\n",
    "    It processes the data and returns a list of dictionaries, where each dictionary\n",
    "    represents a user with the following keys:\n",
    "\n",
    "    - 'name': The user's full name.\n",
    "    - 'gender': The user's gender.\n",
    "    - 'age': The user's age.\n",
    "    - 'skills': A list of the user's skills.\n",
    "    - 'company': The user's company.\n",
    "    - 'salary': The user's salary.\n",
    "    - 'location': A dictionary containing the user's location with keys 'lat' and 'lon'.\n",
    "    - 'registered': The user's registered date.\n",
    "\n",
    "    Parameters\n",
    "    ----------\n",
    "    file_path : str\n",
    "        The file path to the CSV file containing the user data.\n",
    "\n",
    "    Returns\n",
    "    -------\n",
    "    list[dict]\n",
    "        A list of dictionaries, where each dictionary represents a user with the\n",
    "        specified keys.\n",
    "\n",
    "    Examples\n",
    "    --------\n",
    "    >>> data = process_csv_data('path/to/users.csv')\n",
    "    >>> print(data[0])\n",
    "    {\n",
    "        'name': 'John Doe',\n",
    "        'gender': 'Male',\n",
    "        'age': '30',\n",
    "        'skills': ['Python', 'Data Analysis', 'Machine Learning'],\n",
    "        'company': 'XYZ Corporation',\n",
    "        'salary': '$80,000',\n",
    "        'location': {'lat': 40.7128, 'lon': -74.0060},\n",
    "        'registered': '2022-01-15'\n",
    "    }\n",
    "    \"\"\"\n",
    "    with open(file_path, 'r', encoding='utf-8') as file:\n",
    "        reader = csv.reader(file)\n",
    "        next(reader)\n",
    "        data = []\n",
    "        for row in reader:\n",
    "            fullname,gender,age,skills,company,salary,location,registered_date = row\n",
    "            \n",
    "            skills = skills.split(';')\n",
    "            lat = float(location.split(';')[0])\n",
    "            lon = float(location.split(';')[1])\n",
    "            \n",
    "            data_dict = {\n",
    "                'name': fullname,\n",
    "                'gender': gender,\n",
    "                'age': age,\n",
    "                'skills': skills,\n",
    "                'company': company,\n",
    "                'salary': salary,\n",
    "                'location': {\n",
    "                    'lat': lat,\n",
    "                    'lon': lon\n",
    "                },\n",
    "                'registered': registered_date\n",
    "            }\n",
    "            data.append(data_dict)\n",
    "        return data"
   ]
  },
  {
   "cell_type": "code",
   "execution_count": 114,
   "metadata": {},
   "outputs": [],
   "source": [
    "def save_json(data: list[dict], file_path: str) -> None:\n",
    "    \"\"\"\n",
    "    Save a list of dictionaries as JSON data to a file.\n",
    "\n",
    "    This function serializes the input list of dictionaries into a JSON formatted\n",
    "    string and writes it to the specified file path with an indentation of 4 spaces\n",
    "    for better readability.\n",
    "\n",
    "    Parameters\n",
    "    ----------\n",
    "    data : list[dict]\n",
    "        A list of dictionaries to be saved as JSON data.\n",
    "    file_path : str\n",
    "        The file path where the JSON data will be saved.\n",
    "\n",
    "    Returns\n",
    "    -------\n",
    "    None\n",
    "\n",
    "    Examples\n",
    "    --------\n",
    "    >>> data = [{\"name\": \"John\", \"age\": 30}, {\"name\": \"Jane\", \"age\": 25}]\n",
    "    >>> save_json(data, \"example.json\")\n",
    "    # The JSON data will be saved to the \"example.json\" file with the following content:\n",
    "    # [\n",
    "    #     {\"name\": \"John\", \"age\": 30},\n",
    "    #     {\"name\": \"Jane\", \"age\": 25}\n",
    "    # ]\n",
    "    \"\"\"\n",
    "    with open(file_path, \"w\") as file:\n",
    "        json.dump(data, file, indent=4)"
   ]
  },
  {
   "cell_type": "code",
   "execution_count": 115,
   "metadata": {},
   "outputs": [],
   "source": [
    "# MAIN BODY\n",
    "main_dir = Path(r\"data/csv_data\")\n",
    "data = []\n",
    "for file in main_dir.iterdir():\n",
    "    data.append(process_csv_data(file))\n",
    "\n",
    "save_json(data, \"data/data.json\")"
   ]
  },
  {
   "cell_type": "markdown",
   "metadata": {},
   "source": [
    "## Elastic search"
   ]
  },
  {
   "cell_type": "code",
   "execution_count": 116,
   "metadata": {},
   "outputs": [],
   "source": [
    "from elasticsearch import Elasticsearch\n",
    "from elasticsearch.helpers import bulk"
   ]
  },
  {
   "cell_type": "code",
   "execution_count": 117,
   "metadata": {},
   "outputs": [],
   "source": [
    "def read_json(path) -> dict | list[dict]:\n",
    "    with open(path, 'r', encoding='utf-8') as file:\n",
    "        return json.load(file)"
   ]
  },
  {
   "cell_type": "code",
   "execution_count": 118,
   "metadata": {},
   "outputs": [],
   "source": [
    "def create_index(agent: Elasticsearch, index_name: str, settings):\n",
    "    agent.indices.create(index=index_name, body=settings)\n",
    "    \n"
   ]
  },
  {
   "cell_type": "code",
   "execution_count": 119,
   "metadata": {},
   "outputs": [],
   "source": [
    "def upload(index, data):\n",
    "    for item in data:\n",
    "        yield {\n",
    "            '_index': index,\n",
    "            '_source': item\n",
    "        }"
   ]
  },
  {
   "cell_type": "code",
   "execution_count": 122,
   "metadata": {},
   "outputs": [
    {
     "name": "stdout",
     "output_type": "stream",
     "text": [
      "{'name': '89260c7982e1', 'cluster_name': 'docker-cluster', 'cluster_uuid': 'rM0DcZKtRWWya4Jr4Gw9TA', 'version': {'number': '7.17.7', 'build_flavor': 'default', 'build_type': 'docker', 'build_hash': '78dcaaa8cee33438b91eca7f5c7f56a70fec9e80', 'build_date': '2022-10-17T15:29:54.167373105Z', 'build_snapshot': False, 'lucene_version': '8.11.1', 'minimum_wire_compatibility_version': '6.8.0', 'minimum_index_compatibility_version': '6.0.0-beta1'}, 'tagline': 'You Know, for Search'}\n"
     ]
    },
    {
     "data": {
      "text/plain": [
       "(493, [])"
      ]
     },
     "execution_count": 122,
     "metadata": {},
     "output_type": "execute_result"
    }
   ],
   "source": [
    "login = 'jinr_school_34'\n",
    "password = 'U6d3HG4v'\n",
    "index = 'jobhunt_34'\n",
    "url = 'https://pluton.mephi.ru/elk-e'\n",
    "es = Elasticsearch(\n",
    "    url,\n",
    "    basic_auth=(login, password)\n",
    ")\n",
    "print(es.info())\n",
    "#settings = read_json('data/mapping.json')\n",
    "#create_index(es, index, settings)\n",
    "data = read_json('data/data.json')\n",
    "bulk(es, upload(index=index, data=data))"
   ]
  },
  {
   "cell_type": "code",
   "execution_count": null,
   "metadata": {},
   "outputs": [],
   "source": []
  }
 ],
 "metadata": {
  "kernelspec": {
   "display_name": "base",
   "language": "python",
   "name": "python3"
  },
  "language_info": {
   "codemirror_mode": {
    "name": "ipython",
    "version": 3
   },
   "file_extension": ".py",
   "mimetype": "text/x-python",
   "name": "python",
   "nbconvert_exporter": "python",
   "pygments_lexer": "ipython3",
   "version": "3.12.2"
  }
 },
 "nbformat": 4,
 "nbformat_minor": 2
}
